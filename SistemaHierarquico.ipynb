{
 "cells": [
  {
   "cell_type": "code",
   "execution_count": 1,
   "metadata": {},
   "outputs": [],
   "source": [
    "import numpy as np\n",
    "import pandas as pd\n",
    "import matplotlib.pyplot as plt\n",
    "from sklearn.metrics import classification_report\n",
    "import pickle\n",
    "import time\n",
    "from SistemaHierarquico import Sistema_Hierarquico_Base\n"
   ]
  },
  {
   "cell_type": "code",
   "execution_count": null,
   "metadata": {},
   "outputs": [],
   "source": []
  },
  {
   "cell_type": "code",
   "execution_count": 4,
   "metadata": {},
   "outputs": [],
   "source": [
    "with open(\"Models\\FirstStage.p\",'rb') as f:\n",
    "    first_stage = pickle.load(f)\n",
    "with open(\"Models\\SecondStage.p\",\"rb\") as f:\n",
    "    second_stage = pickle.load(f)"
   ]
  },
  {
   "cell_type": "code",
   "execution_count": 5,
   "metadata": {},
   "outputs": [],
   "source": [
    "class SistemaHierarquico(Sistema_Hierarquico_Base):\n",
    "        def __init__(self,anomaly_detector, classifier, n_classes, threshold_b, threshold_m, threshold_u):\n",
    "            super().__init__(anomaly_detector, classifier, n_classes, threshold_b, threshold_m, threshold_u)\n",
    "\n",
    "        def detect_anomaly_proba(self, X):\n",
    "            # vetor com classe de maior probabilidade de cada instancia\n",
    "            # pegam so a probabilidade dos elementos serem 1\n",
    "            y_score = self.anomaly_detector.score_samples(X)\n",
    "\n",
    "            # normaliza para ficar entre 0 e 1 como uma probabilidade\n",
    "            y_score = (y_score - y_score.min())/(y_score.max() -y_score.min())\n",
    "\n",
    "            # como valoores maiores sao de benignos, precisamos inverter\n",
    "            y_score = 1-y_score\n",
    "            return y_score\n",
    "\n",
    "        def classify_proba(self,X):\n",
    "            # matriz, cada linha representa uma instancia que pde ser maligna,\n",
    "            # cada coluna representa uma classe\n",
    "            # cada elemento da matriz representa uma probabilidade\n",
    "            return self.classifier.predict_proba(X)"
   ]
  },
  {
   "cell_type": "code",
   "execution_count": 3,
   "metadata": {},
   "outputs": [
    {
     "name": "stdout",
     "output_type": "stream",
     "text": [
      "<class 'pandas.core.frame.DataFrame'>\n",
      "RangeIndex: 56860 entries, 0 to 56859\n",
      "Data columns (total 45 columns):\n",
      " #   Column                  Non-Null Count  Dtype  \n",
      "---  ------                  --------------  -----  \n",
      " 0   Unnamed: 0              56860 non-null  int64  \n",
      " 1   Protocol                56860 non-null  float64\n",
      " 2   Fwd Packet Length Min   56860 non-null  float64\n",
      " 3   Fwd Packet Length Std   56860 non-null  float64\n",
      " 4   Bwd Packet Length Max   56860 non-null  float64\n",
      " 5   Bwd Packet Length Min   56860 non-null  float64\n",
      " 6   Bwd Packet Length Std   56860 non-null  float64\n",
      " 7   Flow Bytes/s            56860 non-null  float64\n",
      " 8   Flow IAT Mean           56860 non-null  float64\n",
      " 9   Flow IAT Std            56860 non-null  float64\n",
      " 10  Flow IAT Min            56860 non-null  float64\n",
      " 11  Fwd IAT Std             56860 non-null  float64\n",
      " 12  Fwd IAT Min             56860 non-null  float64\n",
      " 13  Bwd IAT Total           56860 non-null  float64\n",
      " 14  Bwd IAT Std             56860 non-null  float64\n",
      " 15  Bwd IAT Max             56860 non-null  float64\n",
      " 16  Bwd IAT Min             56860 non-null  float64\n",
      " 17  Fwd Packets/s           56860 non-null  float64\n",
      " 18  Bwd Packets/s           56860 non-null  float64\n",
      " 19  Packet Length Min       56860 non-null  float64\n",
      " 20  Packet Length Std       56860 non-null  float64\n",
      " 21  Packet Length Variance  56860 non-null  float64\n",
      " 22  FIN Flag Count          56860 non-null  float64\n",
      " 23  SYN Flag Count          56860 non-null  float64\n",
      " 24  PSH Flag Count          56860 non-null  float64\n",
      " 25  ACK Flag Count          56860 non-null  float64\n",
      " 26  URG Flag Count          56860 non-null  float64\n",
      " 27  ECE Flag Count          56860 non-null  float64\n",
      " 28  Down/Up Ratio           56860 non-null  float64\n",
      " 29  Avg Packet Size         56860 non-null  float64\n",
      " 30  Avg Fwd Segment Size    56860 non-null  float64\n",
      " 31  Avg Bwd Segment Size    56860 non-null  float64\n",
      " 32  Subflow Fwd Bytes       56860 non-null  float64\n",
      " 33  Subflow Bwd Bytes       56860 non-null  float64\n",
      " 34  Init Fwd Win Bytes      56860 non-null  float64\n",
      " 35  Init Bwd Win Bytes      56860 non-null  float64\n",
      " 36  Fwd Act Data Packets    56860 non-null  float64\n",
      " 37  Fwd Seg Size Min        56860 non-null  float64\n",
      " 38  Active Mean             56860 non-null  float64\n",
      " 39  Active Std              56860 non-null  float64\n",
      " 40  Active Max              56860 non-null  float64\n",
      " 41  Active Min              56860 non-null  float64\n",
      " 42  Idle Std                56860 non-null  float64\n",
      " 43  Idle Min                56860 non-null  float64\n",
      " 44  Label                   56860 non-null  object \n",
      "dtypes: float64(43), int64(1), object(1)\n",
      "memory usage: 19.5+ MB\n"
     ]
    }
   ],
   "source": [
    "#test_set = pd.read_csv(\"data\\\\test_full_model.csv\")\n",
    "test_set = pd.read_csv(\"data\\\\test_dataset.csv\")\n",
    "test_set.info()"
   ]
  },
  {
   "cell_type": "code",
   "execution_count": 4,
   "metadata": {},
   "outputs": [
    {
     "name": "stdout",
     "output_type": "stream",
     "text": [
      "<class 'pandas.core.frame.DataFrame'>\n",
      "RangeIndex: 105320 entries, 0 to 105319\n",
      "Data columns (total 57 columns):\n",
      " #   Column                   Non-Null Count   Dtype  \n",
      "---  ------                   --------------   -----  \n",
      " 0   Unnamed: 0               105320 non-null  int64  \n",
      " 1   Fwd Packet Length Min    105320 non-null  int64  \n",
      " 2   Fwd Packet Length Std    105320 non-null  float64\n",
      " 3   Bwd Packet Length Min    105320 non-null  int64  \n",
      " 4   Bwd Packet Length Std    105320 non-null  float64\n",
      " 5   Flow Bytes/s             105320 non-null  float64\n",
      " 6   Flow IAT Mean            105320 non-null  float64\n",
      " 7   Flow IAT Std             105320 non-null  float64\n",
      " 8   Flow IAT Min             105320 non-null  int64  \n",
      " 9   Fwd IAT Total            105320 non-null  int64  \n",
      " 10  Fwd IAT Mean             105320 non-null  float64\n",
      " 11  Fwd IAT Std              105320 non-null  float64\n",
      " 12  Fwd IAT Min              105320 non-null  int64  \n",
      " 13  Bwd IAT Total            105320 non-null  int64  \n",
      " 14  Bwd IAT Mean             105320 non-null  float64\n",
      " 15  Bwd IAT Std              105320 non-null  float64\n",
      " 16  Bwd IAT Max              105320 non-null  int64  \n",
      " 17  Bwd IAT Min              105320 non-null  int64  \n",
      " 18  Bwd PSH Flags            105320 non-null  int64  \n",
      " 19  Bwd URG Flags            105320 non-null  int64  \n",
      " 20  Bwd Header Length        105320 non-null  int64  \n",
      " 21  Fwd Packets/s            105320 non-null  float64\n",
      " 22  Bwd Packets/s            105320 non-null  float64\n",
      " 23  Min Packet Length        105320 non-null  int64  \n",
      " 24  Packet Length Std        105320 non-null  float64\n",
      " 25  Packet Length Variance   105320 non-null  float64\n",
      " 26  FIN Flag Count           105320 non-null  int64  \n",
      " 27  SYN Flag Count           105320 non-null  int64  \n",
      " 28  PSH Flag Count           105320 non-null  int64  \n",
      " 29  ACK Flag Count           105320 non-null  int64  \n",
      " 30  URG Flag Count           105320 non-null  int64  \n",
      " 31  CWE Flag Count           105320 non-null  int64  \n",
      " 32  ECE Flag Count           105320 non-null  int64  \n",
      " 33  Down/Up Ratio            105320 non-null  int64  \n",
      " 34  Average Packet Size      105320 non-null  float64\n",
      " 35  Avg Fwd Segment Size     105320 non-null  float64\n",
      " 36  Avg Bwd Segment Size     105320 non-null  float64\n",
      " 37  Fwd Header Length.1      105320 non-null  int64  \n",
      " 38  Fwd Avg Bytes/Bulk       105320 non-null  int64  \n",
      " 39  Fwd Avg Packets/Bulk     105320 non-null  int64  \n",
      " 40  Fwd Avg Bulk Rate        105320 non-null  int64  \n",
      " 41  Bwd Avg Bytes/Bulk       105320 non-null  int64  \n",
      " 42  Bwd Avg Packets/Bulk     105320 non-null  int64  \n",
      " 43  Bwd Avg Bulk Rate        105320 non-null  int64  \n",
      " 44  Subflow Fwd Bytes        105320 non-null  int64  \n",
      " 45  Subflow Bwd Bytes        105320 non-null  int64  \n",
      " 46  Init_Win_bytes_forward   105320 non-null  int64  \n",
      " 47  Init_Win_bytes_backward  105320 non-null  int64  \n",
      " 48  act_data_pkt_fwd         105320 non-null  int64  \n",
      " 49  min_seg_size_forward     105320 non-null  int64  \n",
      " 50  Active Mean              105320 non-null  float64\n",
      " 51  Active Std               105320 non-null  float64\n",
      " 52  Active Max               105320 non-null  int64  \n",
      " 53  Active Min               105320 non-null  int64  \n",
      " 54  Idle Std                 105320 non-null  float64\n",
      " 55  Idle Min                 105320 non-null  int64  \n",
      " 56  Label                    105320 non-null  object \n",
      "dtypes: float64(19), int64(37), object(1)\n",
      "memory usage: 45.8+ MB\n"
     ]
    }
   ],
   "source": [
    "test_set = pd.read_csv(\"data\\\\test_full_model.csv\")\n",
    "#test_set = pd.read_csv(\"data\\\\test_dataset.csv\")\n",
    "test_set.info()"
   ]
  },
  {
   "cell_type": "code",
   "execution_count": 29,
   "metadata": {},
   "outputs": [],
   "source": [
    "y_test = test_set.Label.to_numpy()\n",
    "X_test = test_set.drop(columns= [\"Label\"]).to_numpy()"
   ]
  },
  {
   "cell_type": "code",
   "execution_count": 47,
   "metadata": {},
   "outputs": [],
   "source": [
    "sh = SistemaHierarquico(first_stage,second_stage, 5, .25, .85, .6) "
   ]
  },
  {
   "cell_type": "code",
   "execution_count": 48,
   "metadata": {},
   "outputs": [
    {
     "name": "stderr",
     "output_type": "stream",
     "text": [
      "d:\\Disciplinas\\intrusao\\Projeto\\Sistema_Hierarquico\\Deteccao_de_Intrusao_Hierarquica_Multiestagio\\env\\Lib\\site-packages\\sklearn\\base.py:493: UserWarning: X does not have valid feature names, but QuantileTransformer was fitted with feature names\n",
      "  warnings.warn(\n",
      "d:\\Disciplinas\\intrusao\\Projeto\\Sistema_Hierarquico\\Deteccao_de_Intrusao_Hierarquica_Multiestagio\\env\\Lib\\site-packages\\sklearn\\base.py:493: UserWarning: X does not have valid feature names, but QuantileTransformer was fitted with feature names\n",
      "  warnings.warn(\n"
     ]
    }
   ],
   "source": [
    "start = time.perf_counter()\n",
    "y_pred = sh.predict(X_test)\n",
    "finish = time.perf_counter()\n",
    "\n",
    "time_spent = finish - start\n",
    "\n",
    "print(y_pred)\n",
    "print(time_spent)"
   ]
  },
  {
   "cell_type": "code",
   "execution_count": 49,
   "metadata": {},
   "outputs": [
    {
     "data": {
      "text/plain": [
       "array(['(D)DOS', 'Botnet', 'Brute Force', 'Port Scan', 'Web-Attack'],\n",
       "      dtype=object)"
      ]
     },
     "execution_count": 49,
     "metadata": {},
     "output_type": "execute_result"
    }
   ],
   "source": [
    "second_stage.classes_"
   ]
  },
  {
   "cell_type": "code",
   "execution_count": 50,
   "metadata": {},
   "outputs": [],
   "source": [
    "# basta usar o sescond.classes_ para anomalias, \n",
    "labels = np.array(['Unkown','(D)DOS', 'Botnet', 'Brute Force', 'Port Scan', 'Web-Attack', 'BENIGN'],dtype=str)\n",
    "y_pred = np.array([labels[pred] for pred in y_pred])"
   ]
  },
  {
   "cell_type": "code",
   "execution_count": 51,
   "metadata": {},
   "outputs": [
    {
     "name": "stderr",
     "output_type": "stream",
     "text": [
      "d:\\Disciplinas\\intrusao\\Projeto\\Sistema_Hierarquico\\Deteccao_de_Intrusao_Hierarquica_Multiestagio\\env\\Lib\\site-packages\\sklearn\\metrics\\_classification.py:1509: UndefinedMetricWarning: Recall is ill-defined and being set to 0.0 in labels with no true samples. Use `zero_division` parameter to control this behavior.\n",
      "  _warn_prf(average, modifier, f\"{metric.capitalize()} is\", len(result))\n",
      "d:\\Disciplinas\\intrusao\\Projeto\\Sistema_Hierarquico\\Deteccao_de_Intrusao_Hierarquica_Multiestagio\\env\\Lib\\site-packages\\sklearn\\metrics\\_classification.py:1509: UndefinedMetricWarning: Recall is ill-defined and being set to 0.0 in labels with no true samples. Use `zero_division` parameter to control this behavior.\n",
      "  _warn_prf(average, modifier, f\"{metric.capitalize()} is\", len(result))\n"
     ]
    },
    {
     "name": "stdout",
     "output_type": "stream",
     "text": [
      "              precision    recall  f1-score   support\n",
      "\n",
      "      (D)DOS       0.60      0.99      0.75      1076\n",
      "      BENIGN       1.00      0.95      0.97    100000\n",
      "      Botnet       0.45      1.00      0.62      1040\n",
      " Brute Force       0.75      0.97      0.85      1100\n",
      "   Port Scan       1.00      1.00      1.00      1066\n",
      "      Unkown       0.00      0.00      0.00         0\n",
      "  Web-Attack       0.79      0.95      0.86      1038\n",
      "\n",
      "    accuracy                           0.95    105320\n",
      "   macro avg       0.66      0.84      0.72    105320\n",
      "weighted avg       0.98      0.95      0.97    105320\n",
      "\n"
     ]
    },
    {
     "name": "stderr",
     "output_type": "stream",
     "text": [
      "d:\\Disciplinas\\intrusao\\Projeto\\Sistema_Hierarquico\\Deteccao_de_Intrusao_Hierarquica_Multiestagio\\env\\Lib\\site-packages\\sklearn\\metrics\\_classification.py:1509: UndefinedMetricWarning: Recall is ill-defined and being set to 0.0 in labels with no true samples. Use `zero_division` parameter to control this behavior.\n",
      "  _warn_prf(average, modifier, f\"{metric.capitalize()} is\", len(result))\n"
     ]
    }
   ],
   "source": [
    "print(classification_report(y_test,y_pred))"
   ]
  },
  {
   "cell_type": "code",
   "execution_count": null,
   "metadata": {},
   "outputs": [],
   "source": []
  }
 ],
 "metadata": {
  "kernelspec": {
   "display_name": "env",
   "language": "python",
   "name": "python3"
  },
  "language_info": {
   "codemirror_mode": {
    "name": "ipython",
    "version": 3
   },
   "file_extension": ".py",
   "mimetype": "text/x-python",
   "name": "python",
   "nbconvert_exporter": "python",
   "pygments_lexer": "ipython3",
   "version": "3.11.3"
  }
 },
 "nbformat": 4,
 "nbformat_minor": 2
}
