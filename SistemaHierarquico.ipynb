{
 "cells": [
  {
   "cell_type": "code",
   "execution_count": 1,
   "metadata": {},
   "outputs": [],
   "source": [
    "import numpy as np\n",
    "import pandas as pd\n",
    "import matplotlib.pyplot as plt\n",
    "from sklearn.metrics import classification_report\n",
    "import pickle\n",
    "from SistemaHierarquico import Sistema_Hierarquico_Base\n"
   ]
  },
  {
   "cell_type": "code",
   "execution_count": 4,
   "metadata": {},
   "outputs": [],
   "source": [
    "with open(\"Models\\FirstStage.p\",'rb') as f:\n",
    "    first_stage = pickle.load(f)\n",
    "with open(\"Models\\SecondStage.p\",\"rb\") as f:\n",
    "    second_stage = pickle.load(f)"
   ]
  },
  {
   "cell_type": "code",
   "execution_count": 5,
   "metadata": {},
   "outputs": [],
   "source": [
    "\n",
    "\n",
    "\n",
    "class SistemaHierarquico(Sistema_Hierarquico_Base):\n",
    "        def __init__(self,anomaly_detector, classifier, n_classes, threshold_b, threshold_m, threshold_u):\n",
    "            super().__init__(anomaly_detector, classifier, n_classes, threshold_b, threshold_m, threshold_u)\n",
    "\n",
    "        def detect_anomaly_proba(self, X):\n",
    "            # vetor com classe de maior probabilidade de cada instancia\n",
    "            # pegam so a probabilidade dos elementos serem 1\n",
    "            y_score = self.anomaly_detector.score_samples(X)\n",
    "\n",
    "            # normaliza para ficar entre 0 e 1 como uma probabilidade\n",
    "            y_score = (y_score - y_score.min())/(y_score.max() -y_score.min())\n",
    "\n",
    "            # como valoores maiores sao de benignos, precisamos inverter\n",
    "            y_score = 1-y_score\n",
    "            return y_score\n",
    "\n",
    "        def classify_proba(self,X):\n",
    "            # matriz, cada linha representa uma instancia que pde ser maligna,\n",
    "            # cada coluna representa uma classe\n",
    "            # cada elemento da matriz representa uma probabilidade\n",
    "            return self.classifier.predict_proba(X)"
   ]
  },
  {
   "cell_type": "code",
   "execution_count": 22,
   "metadata": {},
   "outputs": [
    {
     "data": {
      "text/plain": [
       "Label\n",
       "BENIGN         100000\n",
       "Brute Force      1100\n",
       "(D)DOS           1076\n",
       "Port Scan        1066\n",
       "Botnet           1040\n",
       "Web-Attack       1038\n",
       "Name: count, dtype: int64"
      ]
     },
     "execution_count": 22,
     "metadata": {},
     "output_type": "execute_result"
    }
   ],
   "source": [
    "test_set = pd.read_csv(\"data\\\\test_full_model.csv\")\n",
    "#test_set = pd.read_csv(\"data\\\\test_dataset.csv\")\n",
    "test_set.Label.value_counts()"
   ]
  },
  {
   "cell_type": "code",
   "execution_count": 29,
   "metadata": {},
   "outputs": [],
   "source": [
    "y_test = test_set.Label.to_numpy()\n",
    "X_test = test_set.drop(columns= [\"Label\"]).to_numpy()"
   ]
  },
  {
   "cell_type": "code",
   "execution_count": 47,
   "metadata": {},
   "outputs": [],
   "source": [
    "sh = SistemaHierarquico(first_stage,second_stage, 5, .25, .85, .6) "
   ]
  },
  {
   "cell_type": "code",
   "execution_count": 48,
   "metadata": {},
   "outputs": [
    {
     "name": "stderr",
     "output_type": "stream",
     "text": [
      "d:\\Disciplinas\\intrusao\\Projeto\\Sistema_Hierarquico\\Deteccao_de_Intrusao_Hierarquica_Multiestagio\\env\\Lib\\site-packages\\sklearn\\base.py:493: UserWarning: X does not have valid feature names, but QuantileTransformer was fitted with feature names\n",
      "  warnings.warn(\n",
      "d:\\Disciplinas\\intrusao\\Projeto\\Sistema_Hierarquico\\Deteccao_de_Intrusao_Hierarquica_Multiestagio\\env\\Lib\\site-packages\\sklearn\\base.py:493: UserWarning: X does not have valid feature names, but QuantileTransformer was fitted with feature names\n",
      "  warnings.warn(\n"
     ]
    }
   ],
   "source": [
    "y_pred = sh.predict(X_test)"
   ]
  },
  {
   "cell_type": "code",
   "execution_count": 49,
   "metadata": {},
   "outputs": [
    {
     "data": {
      "text/plain": [
       "array(['(D)DOS', 'Botnet', 'Brute Force', 'Port Scan', 'Web-Attack'],\n",
       "      dtype=object)"
      ]
     },
     "execution_count": 49,
     "metadata": {},
     "output_type": "execute_result"
    }
   ],
   "source": [
    "second_stage.classes_"
   ]
  },
  {
   "cell_type": "code",
   "execution_count": 50,
   "metadata": {},
   "outputs": [],
   "source": [
    "# basta usar o sescond.classes_ para anomalias, \n",
    "labels = np.array(['Unkown','(D)DOS', 'Botnet', 'Brute Force', 'Port Scan', 'Web-Attack', 'BENIGN'],dtype=str)\n",
    "y_pred = np.array([labels[pred] for pred in y_pred])"
   ]
  },
  {
   "cell_type": "code",
   "execution_count": 51,
   "metadata": {},
   "outputs": [
    {
     "name": "stderr",
     "output_type": "stream",
     "text": [
      "d:\\Disciplinas\\intrusao\\Projeto\\Sistema_Hierarquico\\Deteccao_de_Intrusao_Hierarquica_Multiestagio\\env\\Lib\\site-packages\\sklearn\\metrics\\_classification.py:1509: UndefinedMetricWarning: Recall is ill-defined and being set to 0.0 in labels with no true samples. Use `zero_division` parameter to control this behavior.\n",
      "  _warn_prf(average, modifier, f\"{metric.capitalize()} is\", len(result))\n",
      "d:\\Disciplinas\\intrusao\\Projeto\\Sistema_Hierarquico\\Deteccao_de_Intrusao_Hierarquica_Multiestagio\\env\\Lib\\site-packages\\sklearn\\metrics\\_classification.py:1509: UndefinedMetricWarning: Recall is ill-defined and being set to 0.0 in labels with no true samples. Use `zero_division` parameter to control this behavior.\n",
      "  _warn_prf(average, modifier, f\"{metric.capitalize()} is\", len(result))\n"
     ]
    },
    {
     "name": "stdout",
     "output_type": "stream",
     "text": [
      "              precision    recall  f1-score   support\n",
      "\n",
      "      (D)DOS       0.60      0.99      0.75      1076\n",
      "      BENIGN       1.00      0.95      0.97    100000\n",
      "      Botnet       0.45      1.00      0.62      1040\n",
      " Brute Force       0.75      0.97      0.85      1100\n",
      "   Port Scan       1.00      1.00      1.00      1066\n",
      "      Unkown       0.00      0.00      0.00         0\n",
      "  Web-Attack       0.79      0.95      0.86      1038\n",
      "\n",
      "    accuracy                           0.95    105320\n",
      "   macro avg       0.66      0.84      0.72    105320\n",
      "weighted avg       0.98      0.95      0.97    105320\n",
      "\n"
     ]
    },
    {
     "name": "stderr",
     "output_type": "stream",
     "text": [
      "d:\\Disciplinas\\intrusao\\Projeto\\Sistema_Hierarquico\\Deteccao_de_Intrusao_Hierarquica_Multiestagio\\env\\Lib\\site-packages\\sklearn\\metrics\\_classification.py:1509: UndefinedMetricWarning: Recall is ill-defined and being set to 0.0 in labels with no true samples. Use `zero_division` parameter to control this behavior.\n",
      "  _warn_prf(average, modifier, f\"{metric.capitalize()} is\", len(result))\n"
     ]
    }
   ],
   "source": [
    "print(classification_report(y_test,y_pred))"
   ]
  },
  {
   "cell_type": "code",
   "execution_count": null,
   "metadata": {},
   "outputs": [],
   "source": []
  }
 ],
 "metadata": {
  "kernelspec": {
   "display_name": "env",
   "language": "python",
   "name": "python3"
  },
  "language_info": {
   "codemirror_mode": {
    "name": "ipython",
    "version": 3
   },
   "file_extension": ".py",
   "mimetype": "text/x-python",
   "name": "python",
   "nbconvert_exporter": "python",
   "pygments_lexer": "ipython3",
   "version": "3.11.3"
  }
 },
 "nbformat": 4,
 "nbformat_minor": 2
}
