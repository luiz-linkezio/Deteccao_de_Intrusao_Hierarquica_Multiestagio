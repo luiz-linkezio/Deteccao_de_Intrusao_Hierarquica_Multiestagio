{
 "cells": [
  {
   "cell_type": "code",
   "execution_count": 2,
   "id": "b8271f56-c628-4e3d-a108-0597c85c1eeb",
   "metadata": {},
   "outputs": [],
   "source": [
    "# Seed value\n",
    "seed_value= 42\n",
    "\n",
    "# 1. Set the `PYTHONHASHSEED` environment variable at a fixed value\n",
    "import os\n",
    "os.environ['PYTHONHASHSEED']=str(seed_value)\n",
    "\n",
    "# 2. Set the `python` built-in pseudo-random generator at a fixed value\n",
    "import random\n",
    "random.seed(seed_value)\n",
    "\n",
    "# 3. Set the `numpy` pseudo-random generator at a fixed value\n",
    "import numpy as np\n",
    "np.random.seed(seed_value)"
   ]
  },
  {
   "cell_type": "code",
   "execution_count": 3,
   "id": "2e715bd2-f301-4dda-aee2-dd4ec6676fe5",
   "metadata": {},
   "outputs": [],
   "source": [
    "import pandas as pd\n",
    "from sklearn.preprocessing import QuantileTransformer\n",
    "from sklearn.metrics import auc, roc_curve, accuracy_score, balanced_accuracy_score, f1_score, recall_score, confusion_matrix, classification_report\n",
    "from sklearn.pipeline import Pipeline\n",
    "from sklearn.decomposition import PCA\n",
    "from sklearn.svm import OneClassSVM\n",
    "from sklearn.ensemble import RandomForestClassifier\n",
    "import matplotlib.pyplot as plt\n",
    "import seaborn as sns\n",
    "import pickle"
   ]
  },
  {
   "cell_type": "code",
   "execution_count": 1,
   "id": "07ddb450-e1f9-4075-b4fe-93ad822e9147",
   "metadata": {},
   "outputs": [
    {
     "name": "stdout",
     "output_type": "stream",
     "text": [
      "Requirement already satisfied: pyarrow in c:\\users\\henri\\appdata\\local\\programs\\python\\python311\\lib\\site-packages (14.0.2)\n",
      "Requirement already satisfied: numpy>=1.16.6 in c:\\users\\henri\\appdata\\local\\programs\\python\\python311\\lib\\site-packages (from pyarrow) (1.26.0)\n"
     ]
    }
   ],
   "source": [
    "!pip install pyarrow"
   ]
  },
  {
   "cell_type": "markdown",
   "id": "b92b6c2d-d91a-46f6-9186-11c6ec58befa",
   "metadata": {},
   "source": [
    "# Load Test Data\n",
    "- Load data from parquet or csv\n",
    "- Map 'Heartbleed' and 'Infiltration' attack classes to 'Unknown'"
   ]
  },
  {
   "cell_type": "code",
   "execution_count": 7,
   "id": "0dfbd9a9-a776-48d8-b8de-68e579b006dd",
   "metadata": {},
   "outputs": [
    {
     "data": {
      "text/plain": [
       "Y\n",
       "Benign         56468\n",
       "(D)DOS           584\n",
       "Port Scan        584\n",
       "Botnet           584\n",
       "Brute Force      584\n",
       "Web Attack       584\n",
       "Unknown           47\n",
       "Name: count, dtype: int64"
      ]
     },
     "execution_count": 7,
     "metadata": {},
     "output_type": "execute_result"
    }
   ],
   "source": [
    "test = pd.read_parquet(\"data/test.parquet\")\n",
    "# test = pd.read_csv(\"data/test.csv\")\n",
    "\n",
    "y = test[\"Y\"].replace([\"Heartbleed\", \"Infiltration\"], \"Unknown\")\n",
    "x = test.drop(columns=['Y'])\n",
    "\n",
    "y.value_counts()"
   ]
  },
  {
   "cell_type": "markdown",
   "id": "a70fe16b-80f5-49f6-b3d2-f366801ecb6f",
   "metadata": {},
   "source": [
    "### Load additional infiltration samples from 2018"
   ]
  },
  {
   "cell_type": "code",
   "execution_count": 1,
   "id": "0031a6a0-f87b-4e62-9da7-2b3ade48fa70",
   "metadata": {},
   "outputs": [
    {
     "ename": "NameError",
     "evalue": "name 'pd' is not defined",
     "output_type": "error",
     "traceback": [
      "\u001b[1;31m---------------------------------------------------------------------------\u001b[0m",
      "\u001b[1;31mNameError\u001b[0m                                 Traceback (most recent call last)",
      "Cell \u001b[1;32mIn[1], line 1\u001b[0m\n\u001b[1;32m----> 1\u001b[0m infiltration_2018 \u001b[38;5;241m=\u001b[39m \u001b[43mpd\u001b[49m\u001b[38;5;241m.\u001b[39mread_parquet(\u001b[38;5;124m\"\u001b[39m\u001b[38;5;124mdata/infiltration_2018.parquet\u001b[39m\u001b[38;5;124m\"\u001b[39m)\n\u001b[0;32m      3\u001b[0m y_18 \u001b[38;5;241m=\u001b[39m infiltration_2018[\u001b[38;5;124m'\u001b[39m\u001b[38;5;124my\u001b[39m\u001b[38;5;124m'\u001b[39m]\n\u001b[0;32m      4\u001b[0m x_18 \u001b[38;5;241m=\u001b[39m infiltration_2018\u001b[38;5;241m.\u001b[39mdrop(columns\u001b[38;5;241m=\u001b[39m[\u001b[38;5;124m'\u001b[39m\u001b[38;5;124my\u001b[39m\u001b[38;5;124m'\u001b[39m])\n",
      "\u001b[1;31mNameError\u001b[0m: name 'pd' is not defined"
     ]
    }
   ],
   "source": [
    "infiltration_2018 = pd.read_parquet(\"data/infiltration_2018.parquet\")\n",
    "\n",
    "y_18 = infiltration_2018['y']\n",
    "x_18 = infiltration_2018.drop(columns=['y'])\n",
    "\n",
    "y_18.value_counts()"
   ]
  },
  {
   "cell_type": "markdown",
   "id": "a6c3d87e-250b-4077-92b1-a5b03554c548",
   "metadata": {},
   "source": [
    "# Load Models\n",
    "- the pipelines with feature scaler and optimized model combined for binary detection and multi-class classification\n",
    "- the individual feature scalers and optimized models\n",
    "- Random Forest (RF) optimized baseline model and feature scaler\n",
    "- Optimized models following Bovenzi et al. for comparitative analysis"
   ]
  },
  {
   "cell_type": "code",
   "execution_count": 6,
   "id": "8a105681-c77c-4649-a432-778741228222",
   "metadata": {},
   "outputs": [
    {
     "name": "stderr",
     "output_type": "stream",
     "text": [
      "c:\\Users\\henri\\AppData\\Local\\Programs\\Python\\Python311\\Lib\\site-packages\\sklearn\\base.py:376: InconsistentVersionWarning: Trying to unpickle estimator QuantileTransformer from version 1.1.1 when using version 1.4.0. This might lead to breaking code or invalid results. Use at your own risk. For more info please refer to:\n",
      "https://scikit-learn.org/stable/model_persistence.html#security-maintainability-limitations\n",
      "  warnings.warn(\n",
      "c:\\Users\\henri\\AppData\\Local\\Programs\\Python\\Python311\\Lib\\site-packages\\sklearn\\base.py:376: InconsistentVersionWarning: Trying to unpickle estimator PCA from version 1.1.1 when using version 1.4.0. This might lead to breaking code or invalid results. Use at your own risk. For more info please refer to:\n",
      "https://scikit-learn.org/stable/model_persistence.html#security-maintainability-limitations\n",
      "  warnings.warn(\n",
      "c:\\Users\\henri\\AppData\\Local\\Programs\\Python\\Python311\\Lib\\site-packages\\sklearn\\base.py:376: InconsistentVersionWarning: Trying to unpickle estimator OneClassSVM from version 1.1.1 when using version 1.4.0. This might lead to breaking code or invalid results. Use at your own risk. For more info please refer to:\n",
      "https://scikit-learn.org/stable/model_persistence.html#security-maintainability-limitations\n",
      "  warnings.warn(\n",
      "c:\\Users\\henri\\AppData\\Local\\Programs\\Python\\Python311\\Lib\\site-packages\\sklearn\\base.py:376: InconsistentVersionWarning: Trying to unpickle estimator Pipeline from version 1.1.1 when using version 1.4.0. This might lead to breaking code or invalid results. Use at your own risk. For more info please refer to:\n",
      "https://scikit-learn.org/stable/model_persistence.html#security-maintainability-limitations\n",
      "  warnings.warn(\n",
      "c:\\Users\\henri\\AppData\\Local\\Programs\\Python\\Python311\\Lib\\site-packages\\sklearn\\base.py:376: InconsistentVersionWarning: Trying to unpickle estimator DecisionTreeClassifier from version 1.1.1 when using version 1.4.0. This might lead to breaking code or invalid results. Use at your own risk. For more info please refer to:\n",
      "https://scikit-learn.org/stable/model_persistence.html#security-maintainability-limitations\n",
      "  warnings.warn(\n"
     ]
    },
    {
     "ename": "ValueError",
     "evalue": "node array from the pickle has an incompatible dtype:\n- expected: {'names': ['left_child', 'right_child', 'feature', 'threshold', 'impurity', 'n_node_samples', 'weighted_n_node_samples', 'missing_go_to_left'], 'formats': ['<i8', '<i8', '<i8', '<f8', '<f8', '<i8', '<f8', 'u1'], 'offsets': [0, 8, 16, 24, 32, 40, 48, 56], 'itemsize': 64}\n- got     : [('left_child', '<i8'), ('right_child', '<i8'), ('feature', '<i8'), ('threshold', '<f8'), ('impurity', '<f8'), ('n_node_samples', '<i8'), ('weighted_n_node_samples', '<f8')]",
     "output_type": "error",
     "traceback": [
      "\u001b[1;31m---------------------------------------------------------------------------\u001b[0m",
      "\u001b[1;31mValueError\u001b[0m                                Traceback (most recent call last)",
      "Cell \u001b[1;32mIn[6], line 6\u001b[0m\n\u001b[0;32m      4\u001b[0m f\u001b[38;5;241m.\u001b[39mclose()\n\u001b[0;32m      5\u001b[0m f \u001b[38;5;241m=\u001b[39m \u001b[38;5;28mopen\u001b[39m(\u001b[38;5;124m\"\u001b[39m\u001b[38;5;124mmodels/stage2_rf.p\u001b[39m\u001b[38;5;124m\"\u001b[39m,\u001b[38;5;124m\"\u001b[39m\u001b[38;5;124mrb\u001b[39m\u001b[38;5;124m\"\u001b[39m)\n\u001b[1;32m----> 6\u001b[0m stage2 \u001b[38;5;241m=\u001b[39m \u001b[43mpickle\u001b[49m\u001b[38;5;241;43m.\u001b[39;49m\u001b[43mload\u001b[49m\u001b[43m(\u001b[49m\u001b[43mf\u001b[49m\u001b[43m)\u001b[49m\n\u001b[0;32m      7\u001b[0m f\u001b[38;5;241m.\u001b[39mclose()\n\u001b[0;32m      9\u001b[0m \u001b[38;5;66;03m# Individual feature scalers and classification models\u001b[39;00m\n",
      "File \u001b[1;32msklearn\\\\tree\\\\_tree.pyx:865\u001b[0m, in \u001b[0;36msklearn.tree._tree.Tree.__setstate__\u001b[1;34m()\u001b[0m\n",
      "File \u001b[1;32msklearn\\\\tree\\\\_tree.pyx:1571\u001b[0m, in \u001b[0;36msklearn.tree._tree._check_node_ndarray\u001b[1;34m()\u001b[0m\n",
      "\u001b[1;31mValueError\u001b[0m: node array from the pickle has an incompatible dtype:\n- expected: {'names': ['left_child', 'right_child', 'feature', 'threshold', 'impurity', 'n_node_samples', 'weighted_n_node_samples', 'missing_go_to_left'], 'formats': ['<i8', '<i8', '<i8', '<f8', '<f8', '<i8', '<f8', 'u1'], 'offsets': [0, 8, 16, 24, 32, 40, 48, 56], 'itemsize': 64}\n- got     : [('left_child', '<i8'), ('right_child', '<i8'), ('feature', '<i8'), ('threshold', '<f8'), ('impurity', '<f8'), ('n_node_samples', '<i8'), ('weighted_n_node_samples', '<f8')]"
     ]
    }
   ],
   "source": [
    "# Optimized pipelines\n",
    "f = open(\"models/stage1_ocsvm.p\",\"rb\")\n",
    "stage1 = pickle.load(f)\n",
    "f.close()\n",
    "f = open(\"models/stage2_rf.p\",\"rb\")\n",
    "stage2 = pickle.load(f)\n",
    "f.close()\n",
    "\n",
    "# Individual feature scalers and classification models\n",
    "f = open(\"models/stage1_ocsvm_model.p\",\"rb\")\n",
    "stage1_model = pickle.load(f)\n",
    "f.close()\n",
    "f = open(\"models/stage1_ocsvm_scaler.p\",\"rb\")\n",
    "stage1_scaler = pickle.load(f)\n",
    "f.close()\n",
    "f = open(\"models/stage2_rf_model.p\",\"rb\")\n",
    "stage2_model = pickle.load(f)\n",
    "f.close()\n",
    "f = open(\"models/stage2_rf_scaler.p\",\"rb\")\n",
    "stage2_scaler = pickle.load(f)\n",
    "f.close()\n",
    "\n",
    "# RF baseline model and feature scaler\n",
    "f = open(\"models/baseline_rf.p\",\"rb\")\n",
    "baseline_rf = pickle.load(f)\n",
    "f.close()\n",
    "f = open(\"models/baseline_rf_scaler.p\",\"rb\")\n",
    "baseline_rf_scaler = pickle.load(f)\n",
    "f.close()\n",
    "\n",
    "# Optimized models for Bovenzi et al.\n",
    "from tensorflow import keras\n",
    "sota_stage1 = keras.models.load_model(\"models/sota_stage1.h5\")\n",
    "f = open(\"models/sota_stage2.p\",\"rb\")\n",
    "sota_stage2 = pickle.load(f)\n",
    "f.close()"
   ]
  },
  {
   "cell_type": "code",
   "execution_count": 8,
   "id": "8f5abf54-c11e-437c-8042-0ed901d4bcaf",
   "metadata": {},
   "outputs": [
    {
     "data": {
      "text/html": [
       "<style>#sk-container-id-1 {color: black;background-color: white;}#sk-container-id-1 pre{padding: 0;}#sk-container-id-1 div.sk-toggleable {background-color: white;}#sk-container-id-1 label.sk-toggleable__label {cursor: pointer;display: block;width: 100%;margin-bottom: 0;padding: 0.3em;box-sizing: border-box;text-align: center;}#sk-container-id-1 label.sk-toggleable__label-arrow:before {content: \"▸\";float: left;margin-right: 0.25em;color: #696969;}#sk-container-id-1 label.sk-toggleable__label-arrow:hover:before {color: black;}#sk-container-id-1 div.sk-estimator:hover label.sk-toggleable__label-arrow:before {color: black;}#sk-container-id-1 div.sk-toggleable__content {max-height: 0;max-width: 0;overflow: hidden;text-align: left;background-color: #f0f8ff;}#sk-container-id-1 div.sk-toggleable__content pre {margin: 0.2em;color: black;border-radius: 0.25em;background-color: #f0f8ff;}#sk-container-id-1 input.sk-toggleable__control:checked~div.sk-toggleable__content {max-height: 200px;max-width: 100%;overflow: auto;}#sk-container-id-1 input.sk-toggleable__control:checked~label.sk-toggleable__label-arrow:before {content: \"▾\";}#sk-container-id-1 div.sk-estimator input.sk-toggleable__control:checked~label.sk-toggleable__label {background-color: #d4ebff;}#sk-container-id-1 div.sk-label input.sk-toggleable__control:checked~label.sk-toggleable__label {background-color: #d4ebff;}#sk-container-id-1 input.sk-hidden--visually {border: 0;clip: rect(1px 1px 1px 1px);clip: rect(1px, 1px, 1px, 1px);height: 1px;margin: -1px;overflow: hidden;padding: 0;position: absolute;width: 1px;}#sk-container-id-1 div.sk-estimator {font-family: monospace;background-color: #f0f8ff;border: 1px dotted black;border-radius: 0.25em;box-sizing: border-box;margin-bottom: 0.5em;}#sk-container-id-1 div.sk-estimator:hover {background-color: #d4ebff;}#sk-container-id-1 div.sk-parallel-item::after {content: \"\";width: 100%;border-bottom: 1px solid gray;flex-grow: 1;}#sk-container-id-1 div.sk-label:hover label.sk-toggleable__label {background-color: #d4ebff;}#sk-container-id-1 div.sk-serial::before {content: \"\";position: absolute;border-left: 1px solid gray;box-sizing: border-box;top: 0;bottom: 0;left: 50%;z-index: 0;}#sk-container-id-1 div.sk-serial {display: flex;flex-direction: column;align-items: center;background-color: white;padding-right: 0.2em;padding-left: 0.2em;position: relative;}#sk-container-id-1 div.sk-item {position: relative;z-index: 1;}#sk-container-id-1 div.sk-parallel {display: flex;align-items: stretch;justify-content: center;background-color: white;position: relative;}#sk-container-id-1 div.sk-item::before, #sk-container-id-1 div.sk-parallel-item::before {content: \"\";position: absolute;border-left: 1px solid gray;box-sizing: border-box;top: 0;bottom: 0;left: 50%;z-index: -1;}#sk-container-id-1 div.sk-parallel-item {display: flex;flex-direction: column;z-index: 1;position: relative;background-color: white;}#sk-container-id-1 div.sk-parallel-item:first-child::after {align-self: flex-end;width: 50%;}#sk-container-id-1 div.sk-parallel-item:last-child::after {align-self: flex-start;width: 50%;}#sk-container-id-1 div.sk-parallel-item:only-child::after {width: 0;}#sk-container-id-1 div.sk-dashed-wrapped {border: 1px dashed gray;margin: 0 0.4em 0.5em 0.4em;box-sizing: border-box;padding-bottom: 0.4em;background-color: white;}#sk-container-id-1 div.sk-label label {font-family: monospace;font-weight: bold;display: inline-block;line-height: 1.2em;}#sk-container-id-1 div.sk-label-container {text-align: center;}#sk-container-id-1 div.sk-container {/* jupyter's `normalize.less` sets `[hidden] { display: none; }` but bootstrap.min.css set `[hidden] { display: none !important; }` so we also need the `!important` here to be able to override the default hidden behavior on the sphinx rendered scikit-learn.org. See: https://github.com/scikit-learn/scikit-learn/issues/21755 */display: inline-block !important;position: relative;}#sk-container-id-1 div.sk-text-repr-fallback {display: none;}</style><div id=\"sk-container-id-1\" class=\"sk-top-container\"><div class=\"sk-text-repr-fallback\"><pre>Pipeline(steps=[(&#x27;scaler&#x27;,\n",
       "                 QuantileTransformer(output_distribution=&#x27;normal&#x27;,\n",
       "                                     subsample=100000)),\n",
       "                (&#x27;pca&#x27;, PCA(n_components=56, random_state=42)),\n",
       "                (&#x27;ocsvm&#x27;,\n",
       "                 OneClassSVM(gamma=0.0632653906314333, nu=0.0002316646233151,\n",
       "                             verbose=True))])</pre><b>In a Jupyter environment, please rerun this cell to show the HTML representation or trust the notebook. <br />On GitHub, the HTML representation is unable to render, please try loading this page with nbviewer.org.</b></div><div class=\"sk-container\" hidden><div class=\"sk-item sk-dashed-wrapped\"><div class=\"sk-label-container\"><div class=\"sk-label sk-toggleable\"><input class=\"sk-toggleable__control sk-hidden--visually\" id=\"sk-estimator-id-1\" type=\"checkbox\" ><label for=\"sk-estimator-id-1\" class=\"sk-toggleable__label sk-toggleable__label-arrow\">Pipeline</label><div class=\"sk-toggleable__content\"><pre>Pipeline(steps=[(&#x27;scaler&#x27;,\n",
       "                 QuantileTransformer(output_distribution=&#x27;normal&#x27;,\n",
       "                                     subsample=100000)),\n",
       "                (&#x27;pca&#x27;, PCA(n_components=56, random_state=42)),\n",
       "                (&#x27;ocsvm&#x27;,\n",
       "                 OneClassSVM(gamma=0.0632653906314333, nu=0.0002316646233151,\n",
       "                             verbose=True))])</pre></div></div></div><div class=\"sk-serial\"><div class=\"sk-item\"><div class=\"sk-estimator sk-toggleable\"><input class=\"sk-toggleable__control sk-hidden--visually\" id=\"sk-estimator-id-2\" type=\"checkbox\" ><label for=\"sk-estimator-id-2\" class=\"sk-toggleable__label sk-toggleable__label-arrow\">QuantileTransformer</label><div class=\"sk-toggleable__content\"><pre>QuantileTransformer(output_distribution=&#x27;normal&#x27;, subsample=100000)</pre></div></div></div><div class=\"sk-item\"><div class=\"sk-estimator sk-toggleable\"><input class=\"sk-toggleable__control sk-hidden--visually\" id=\"sk-estimator-id-3\" type=\"checkbox\" ><label for=\"sk-estimator-id-3\" class=\"sk-toggleable__label sk-toggleable__label-arrow\">PCA</label><div class=\"sk-toggleable__content\"><pre>PCA(n_components=56, random_state=42)</pre></div></div></div><div class=\"sk-item\"><div class=\"sk-estimator sk-toggleable\"><input class=\"sk-toggleable__control sk-hidden--visually\" id=\"sk-estimator-id-4\" type=\"checkbox\" ><label for=\"sk-estimator-id-4\" class=\"sk-toggleable__label sk-toggleable__label-arrow\">OneClassSVM</label><div class=\"sk-toggleable__content\"><pre>OneClassSVM(gamma=0.0632653906314333, nu=0.0002316646233151, verbose=True)</pre></div></div></div></div></div></div></div>"
      ],
      "text/plain": [
       "Pipeline(steps=[('scaler',\n",
       "                 QuantileTransformer(output_distribution='normal',\n",
       "                                     subsample=100000)),\n",
       "                ('pca', PCA(n_components=56, random_state=42)),\n",
       "                ('ocsvm',\n",
       "                 OneClassSVM(gamma=0.0632653906314333, nu=0.0002316646233151,\n",
       "                             verbose=True))])"
      ]
     },
     "execution_count": 8,
     "metadata": {},
     "output_type": "execute_result"
    }
   ],
   "source": [
    "stage1"
   ]
  },
  {
   "cell_type": "code",
   "execution_count": 9,
   "id": "7232a638-0f21-4cca-8357-9d4e8cb9194c",
   "metadata": {},
   "outputs": [
    {
     "data": {
      "text/html": [
       "<style>#sk-container-id-2 {color: black;background-color: white;}#sk-container-id-2 pre{padding: 0;}#sk-container-id-2 div.sk-toggleable {background-color: white;}#sk-container-id-2 label.sk-toggleable__label {cursor: pointer;display: block;width: 100%;margin-bottom: 0;padding: 0.3em;box-sizing: border-box;text-align: center;}#sk-container-id-2 label.sk-toggleable__label-arrow:before {content: \"▸\";float: left;margin-right: 0.25em;color: #696969;}#sk-container-id-2 label.sk-toggleable__label-arrow:hover:before {color: black;}#sk-container-id-2 div.sk-estimator:hover label.sk-toggleable__label-arrow:before {color: black;}#sk-container-id-2 div.sk-toggleable__content {max-height: 0;max-width: 0;overflow: hidden;text-align: left;background-color: #f0f8ff;}#sk-container-id-2 div.sk-toggleable__content pre {margin: 0.2em;color: black;border-radius: 0.25em;background-color: #f0f8ff;}#sk-container-id-2 input.sk-toggleable__control:checked~div.sk-toggleable__content {max-height: 200px;max-width: 100%;overflow: auto;}#sk-container-id-2 input.sk-toggleable__control:checked~label.sk-toggleable__label-arrow:before {content: \"▾\";}#sk-container-id-2 div.sk-estimator input.sk-toggleable__control:checked~label.sk-toggleable__label {background-color: #d4ebff;}#sk-container-id-2 div.sk-label input.sk-toggleable__control:checked~label.sk-toggleable__label {background-color: #d4ebff;}#sk-container-id-2 input.sk-hidden--visually {border: 0;clip: rect(1px 1px 1px 1px);clip: rect(1px, 1px, 1px, 1px);height: 1px;margin: -1px;overflow: hidden;padding: 0;position: absolute;width: 1px;}#sk-container-id-2 div.sk-estimator {font-family: monospace;background-color: #f0f8ff;border: 1px dotted black;border-radius: 0.25em;box-sizing: border-box;margin-bottom: 0.5em;}#sk-container-id-2 div.sk-estimator:hover {background-color: #d4ebff;}#sk-container-id-2 div.sk-parallel-item::after {content: \"\";width: 100%;border-bottom: 1px solid gray;flex-grow: 1;}#sk-container-id-2 div.sk-label:hover label.sk-toggleable__label {background-color: #d4ebff;}#sk-container-id-2 div.sk-serial::before {content: \"\";position: absolute;border-left: 1px solid gray;box-sizing: border-box;top: 0;bottom: 0;left: 50%;z-index: 0;}#sk-container-id-2 div.sk-serial {display: flex;flex-direction: column;align-items: center;background-color: white;padding-right: 0.2em;padding-left: 0.2em;position: relative;}#sk-container-id-2 div.sk-item {position: relative;z-index: 1;}#sk-container-id-2 div.sk-parallel {display: flex;align-items: stretch;justify-content: center;background-color: white;position: relative;}#sk-container-id-2 div.sk-item::before, #sk-container-id-2 div.sk-parallel-item::before {content: \"\";position: absolute;border-left: 1px solid gray;box-sizing: border-box;top: 0;bottom: 0;left: 50%;z-index: -1;}#sk-container-id-2 div.sk-parallel-item {display: flex;flex-direction: column;z-index: 1;position: relative;background-color: white;}#sk-container-id-2 div.sk-parallel-item:first-child::after {align-self: flex-end;width: 50%;}#sk-container-id-2 div.sk-parallel-item:last-child::after {align-self: flex-start;width: 50%;}#sk-container-id-2 div.sk-parallel-item:only-child::after {width: 0;}#sk-container-id-2 div.sk-dashed-wrapped {border: 1px dashed gray;margin: 0 0.4em 0.5em 0.4em;box-sizing: border-box;padding-bottom: 0.4em;background-color: white;}#sk-container-id-2 div.sk-label label {font-family: monospace;font-weight: bold;display: inline-block;line-height: 1.2em;}#sk-container-id-2 div.sk-label-container {text-align: center;}#sk-container-id-2 div.sk-container {/* jupyter's `normalize.less` sets `[hidden] { display: none; }` but bootstrap.min.css set `[hidden] { display: none !important; }` so we also need the `!important` here to be able to override the default hidden behavior on the sphinx rendered scikit-learn.org. See: https://github.com/scikit-learn/scikit-learn/issues/21755 */display: inline-block !important;position: relative;}#sk-container-id-2 div.sk-text-repr-fallback {display: none;}</style><div id=\"sk-container-id-2\" class=\"sk-top-container\"><div class=\"sk-text-repr-fallback\"><pre>Pipeline(steps=[(&#x27;scaler&#x27;,\n",
       "                 QuantileTransformer(output_distribution=&#x27;normal&#x27;,\n",
       "                                     subsample=100000)),\n",
       "                (&#x27;rf&#x27;,\n",
       "                 RandomForestClassifier(max_features=0.1751204590963604,\n",
       "                                        max_samples=0.9034128710297624,\n",
       "                                        n_estimators=97, random_state=42))])</pre><b>In a Jupyter environment, please rerun this cell to show the HTML representation or trust the notebook. <br />On GitHub, the HTML representation is unable to render, please try loading this page with nbviewer.org.</b></div><div class=\"sk-container\" hidden><div class=\"sk-item sk-dashed-wrapped\"><div class=\"sk-label-container\"><div class=\"sk-label sk-toggleable\"><input class=\"sk-toggleable__control sk-hidden--visually\" id=\"sk-estimator-id-5\" type=\"checkbox\" ><label for=\"sk-estimator-id-5\" class=\"sk-toggleable__label sk-toggleable__label-arrow\">Pipeline</label><div class=\"sk-toggleable__content\"><pre>Pipeline(steps=[(&#x27;scaler&#x27;,\n",
       "                 QuantileTransformer(output_distribution=&#x27;normal&#x27;,\n",
       "                                     subsample=100000)),\n",
       "                (&#x27;rf&#x27;,\n",
       "                 RandomForestClassifier(max_features=0.1751204590963604,\n",
       "                                        max_samples=0.9034128710297624,\n",
       "                                        n_estimators=97, random_state=42))])</pre></div></div></div><div class=\"sk-serial\"><div class=\"sk-item\"><div class=\"sk-estimator sk-toggleable\"><input class=\"sk-toggleable__control sk-hidden--visually\" id=\"sk-estimator-id-6\" type=\"checkbox\" ><label for=\"sk-estimator-id-6\" class=\"sk-toggleable__label sk-toggleable__label-arrow\">QuantileTransformer</label><div class=\"sk-toggleable__content\"><pre>QuantileTransformer(output_distribution=&#x27;normal&#x27;, subsample=100000)</pre></div></div></div><div class=\"sk-item\"><div class=\"sk-estimator sk-toggleable\"><input class=\"sk-toggleable__control sk-hidden--visually\" id=\"sk-estimator-id-7\" type=\"checkbox\" ><label for=\"sk-estimator-id-7\" class=\"sk-toggleable__label sk-toggleable__label-arrow\">RandomForestClassifier</label><div class=\"sk-toggleable__content\"><pre>RandomForestClassifier(max_features=0.1751204590963604,\n",
       "                       max_samples=0.9034128710297624, n_estimators=97,\n",
       "                       random_state=42)</pre></div></div></div></div></div></div></div>"
      ],
      "text/plain": [
       "Pipeline(steps=[('scaler',\n",
       "                 QuantileTransformer(output_distribution='normal',\n",
       "                                     subsample=100000)),\n",
       "                ('rf',\n",
       "                 RandomForestClassifier(max_features=0.1751204590963604,\n",
       "                                        max_samples=0.9034128710297624,\n",
       "                                        n_estimators=97, random_state=42))])"
      ]
     },
     "execution_count": 9,
     "metadata": {},
     "output_type": "execute_result"
    }
   ],
   "source": [
    "stage2"
   ]
  },
  {
   "cell_type": "code",
   "execution_count": 10,
   "id": "d355f15b-4e69-435d-bc31-e184206b640b",
   "metadata": {},
   "outputs": [
    {
     "data": {
      "text/html": [
       "<style>#sk-container-id-3 {color: black;background-color: white;}#sk-container-id-3 pre{padding: 0;}#sk-container-id-3 div.sk-toggleable {background-color: white;}#sk-container-id-3 label.sk-toggleable__label {cursor: pointer;display: block;width: 100%;margin-bottom: 0;padding: 0.3em;box-sizing: border-box;text-align: center;}#sk-container-id-3 label.sk-toggleable__label-arrow:before {content: \"▸\";float: left;margin-right: 0.25em;color: #696969;}#sk-container-id-3 label.sk-toggleable__label-arrow:hover:before {color: black;}#sk-container-id-3 div.sk-estimator:hover label.sk-toggleable__label-arrow:before {color: black;}#sk-container-id-3 div.sk-toggleable__content {max-height: 0;max-width: 0;overflow: hidden;text-align: left;background-color: #f0f8ff;}#sk-container-id-3 div.sk-toggleable__content pre {margin: 0.2em;color: black;border-radius: 0.25em;background-color: #f0f8ff;}#sk-container-id-3 input.sk-toggleable__control:checked~div.sk-toggleable__content {max-height: 200px;max-width: 100%;overflow: auto;}#sk-container-id-3 input.sk-toggleable__control:checked~label.sk-toggleable__label-arrow:before {content: \"▾\";}#sk-container-id-3 div.sk-estimator input.sk-toggleable__control:checked~label.sk-toggleable__label {background-color: #d4ebff;}#sk-container-id-3 div.sk-label input.sk-toggleable__control:checked~label.sk-toggleable__label {background-color: #d4ebff;}#sk-container-id-3 input.sk-hidden--visually {border: 0;clip: rect(1px 1px 1px 1px);clip: rect(1px, 1px, 1px, 1px);height: 1px;margin: -1px;overflow: hidden;padding: 0;position: absolute;width: 1px;}#sk-container-id-3 div.sk-estimator {font-family: monospace;background-color: #f0f8ff;border: 1px dotted black;border-radius: 0.25em;box-sizing: border-box;margin-bottom: 0.5em;}#sk-container-id-3 div.sk-estimator:hover {background-color: #d4ebff;}#sk-container-id-3 div.sk-parallel-item::after {content: \"\";width: 100%;border-bottom: 1px solid gray;flex-grow: 1;}#sk-container-id-3 div.sk-label:hover label.sk-toggleable__label {background-color: #d4ebff;}#sk-container-id-3 div.sk-serial::before {content: \"\";position: absolute;border-left: 1px solid gray;box-sizing: border-box;top: 0;bottom: 0;left: 50%;z-index: 0;}#sk-container-id-3 div.sk-serial {display: flex;flex-direction: column;align-items: center;background-color: white;padding-right: 0.2em;padding-left: 0.2em;position: relative;}#sk-container-id-3 div.sk-item {position: relative;z-index: 1;}#sk-container-id-3 div.sk-parallel {display: flex;align-items: stretch;justify-content: center;background-color: white;position: relative;}#sk-container-id-3 div.sk-item::before, #sk-container-id-3 div.sk-parallel-item::before {content: \"\";position: absolute;border-left: 1px solid gray;box-sizing: border-box;top: 0;bottom: 0;left: 50%;z-index: -1;}#sk-container-id-3 div.sk-parallel-item {display: flex;flex-direction: column;z-index: 1;position: relative;background-color: white;}#sk-container-id-3 div.sk-parallel-item:first-child::after {align-self: flex-end;width: 50%;}#sk-container-id-3 div.sk-parallel-item:last-child::after {align-self: flex-start;width: 50%;}#sk-container-id-3 div.sk-parallel-item:only-child::after {width: 0;}#sk-container-id-3 div.sk-dashed-wrapped {border: 1px dashed gray;margin: 0 0.4em 0.5em 0.4em;box-sizing: border-box;padding-bottom: 0.4em;background-color: white;}#sk-container-id-3 div.sk-label label {font-family: monospace;font-weight: bold;display: inline-block;line-height: 1.2em;}#sk-container-id-3 div.sk-label-container {text-align: center;}#sk-container-id-3 div.sk-container {/* jupyter's `normalize.less` sets `[hidden] { display: none; }` but bootstrap.min.css set `[hidden] { display: none !important; }` so we also need the `!important` here to be able to override the default hidden behavior on the sphinx rendered scikit-learn.org. See: https://github.com/scikit-learn/scikit-learn/issues/21755 */display: inline-block !important;position: relative;}#sk-container-id-3 div.sk-text-repr-fallback {display: none;}</style><div id=\"sk-container-id-3\" class=\"sk-top-container\"><div class=\"sk-text-repr-fallback\"><pre>RandomForestClassifier(max_features=0.4529830442627406,\n",
       "                       max_samples=0.8736817640465646, n_estimators=57,\n",
       "                       oob_score=True, random_state=42)</pre><b>In a Jupyter environment, please rerun this cell to show the HTML representation or trust the notebook. <br />On GitHub, the HTML representation is unable to render, please try loading this page with nbviewer.org.</b></div><div class=\"sk-container\" hidden><div class=\"sk-item\"><div class=\"sk-estimator sk-toggleable\"><input class=\"sk-toggleable__control sk-hidden--visually\" id=\"sk-estimator-id-8\" type=\"checkbox\" checked><label for=\"sk-estimator-id-8\" class=\"sk-toggleable__label sk-toggleable__label-arrow\">RandomForestClassifier</label><div class=\"sk-toggleable__content\"><pre>RandomForestClassifier(max_features=0.4529830442627406,\n",
       "                       max_samples=0.8736817640465646, n_estimators=57,\n",
       "                       oob_score=True, random_state=42)</pre></div></div></div></div></div>"
      ],
      "text/plain": [
       "RandomForestClassifier(max_features=0.4529830442627406,\n",
       "                       max_samples=0.8736817640465646, n_estimators=57,\n",
       "                       oob_score=True, random_state=42)"
      ]
     },
     "execution_count": 10,
     "metadata": {},
     "output_type": "execute_result"
    }
   ],
   "source": [
    "baseline_rf"
   ]
  },
  {
   "cell_type": "code",
   "execution_count": 11,
   "id": "d2b1ceb4-54e9-4462-bf07-db51f8918642",
   "metadata": {},
   "outputs": [
    {
     "data": {
      "text/plain": [
       "<keras.engine.functional.Functional at 0x7fc503a387c0>"
      ]
     },
     "execution_count": 11,
     "metadata": {},
     "output_type": "execute_result"
    }
   ],
   "source": [
    "sota_stage1"
   ]
  },
  {
   "cell_type": "code",
   "execution_count": 12,
   "id": "d9c9a500-1482-4af2-a38a-6bbee9ba4514",
   "metadata": {},
   "outputs": [
    {
     "data": {
      "text/html": [
       "<style>#sk-container-id-4 {color: black;background-color: white;}#sk-container-id-4 pre{padding: 0;}#sk-container-id-4 div.sk-toggleable {background-color: white;}#sk-container-id-4 label.sk-toggleable__label {cursor: pointer;display: block;width: 100%;margin-bottom: 0;padding: 0.3em;box-sizing: border-box;text-align: center;}#sk-container-id-4 label.sk-toggleable__label-arrow:before {content: \"▸\";float: left;margin-right: 0.25em;color: #696969;}#sk-container-id-4 label.sk-toggleable__label-arrow:hover:before {color: black;}#sk-container-id-4 div.sk-estimator:hover label.sk-toggleable__label-arrow:before {color: black;}#sk-container-id-4 div.sk-toggleable__content {max-height: 0;max-width: 0;overflow: hidden;text-align: left;background-color: #f0f8ff;}#sk-container-id-4 div.sk-toggleable__content pre {margin: 0.2em;color: black;border-radius: 0.25em;background-color: #f0f8ff;}#sk-container-id-4 input.sk-toggleable__control:checked~div.sk-toggleable__content {max-height: 200px;max-width: 100%;overflow: auto;}#sk-container-id-4 input.sk-toggleable__control:checked~label.sk-toggleable__label-arrow:before {content: \"▾\";}#sk-container-id-4 div.sk-estimator input.sk-toggleable__control:checked~label.sk-toggleable__label {background-color: #d4ebff;}#sk-container-id-4 div.sk-label input.sk-toggleable__control:checked~label.sk-toggleable__label {background-color: #d4ebff;}#sk-container-id-4 input.sk-hidden--visually {border: 0;clip: rect(1px 1px 1px 1px);clip: rect(1px, 1px, 1px, 1px);height: 1px;margin: -1px;overflow: hidden;padding: 0;position: absolute;width: 1px;}#sk-container-id-4 div.sk-estimator {font-family: monospace;background-color: #f0f8ff;border: 1px dotted black;border-radius: 0.25em;box-sizing: border-box;margin-bottom: 0.5em;}#sk-container-id-4 div.sk-estimator:hover {background-color: #d4ebff;}#sk-container-id-4 div.sk-parallel-item::after {content: \"\";width: 100%;border-bottom: 1px solid gray;flex-grow: 1;}#sk-container-id-4 div.sk-label:hover label.sk-toggleable__label {background-color: #d4ebff;}#sk-container-id-4 div.sk-serial::before {content: \"\";position: absolute;border-left: 1px solid gray;box-sizing: border-box;top: 0;bottom: 0;left: 50%;z-index: 0;}#sk-container-id-4 div.sk-serial {display: flex;flex-direction: column;align-items: center;background-color: white;padding-right: 0.2em;padding-left: 0.2em;position: relative;}#sk-container-id-4 div.sk-item {position: relative;z-index: 1;}#sk-container-id-4 div.sk-parallel {display: flex;align-items: stretch;justify-content: center;background-color: white;position: relative;}#sk-container-id-4 div.sk-item::before, #sk-container-id-4 div.sk-parallel-item::before {content: \"\";position: absolute;border-left: 1px solid gray;box-sizing: border-box;top: 0;bottom: 0;left: 50%;z-index: -1;}#sk-container-id-4 div.sk-parallel-item {display: flex;flex-direction: column;z-index: 1;position: relative;background-color: white;}#sk-container-id-4 div.sk-parallel-item:first-child::after {align-self: flex-end;width: 50%;}#sk-container-id-4 div.sk-parallel-item:last-child::after {align-self: flex-start;width: 50%;}#sk-container-id-4 div.sk-parallel-item:only-child::after {width: 0;}#sk-container-id-4 div.sk-dashed-wrapped {border: 1px dashed gray;margin: 0 0.4em 0.5em 0.4em;box-sizing: border-box;padding-bottom: 0.4em;background-color: white;}#sk-container-id-4 div.sk-label label {font-family: monospace;font-weight: bold;display: inline-block;line-height: 1.2em;}#sk-container-id-4 div.sk-label-container {text-align: center;}#sk-container-id-4 div.sk-container {/* jupyter's `normalize.less` sets `[hidden] { display: none; }` but bootstrap.min.css set `[hidden] { display: none !important; }` so we also need the `!important` here to be able to override the default hidden behavior on the sphinx rendered scikit-learn.org. See: https://github.com/scikit-learn/scikit-learn/issues/21755 */display: inline-block !important;position: relative;}#sk-container-id-4 div.sk-text-repr-fallback {display: none;}</style><div id=\"sk-container-id-4\" class=\"sk-top-container\"><div class=\"sk-text-repr-fallback\"><pre>RandomForestClassifier(max_features=0.15532254178732274,\n",
       "                       max_samples=0.9777860112712836, n_estimators=70,\n",
       "                       random_state=42)</pre><b>In a Jupyter environment, please rerun this cell to show the HTML representation or trust the notebook. <br />On GitHub, the HTML representation is unable to render, please try loading this page with nbviewer.org.</b></div><div class=\"sk-container\" hidden><div class=\"sk-item\"><div class=\"sk-estimator sk-toggleable\"><input class=\"sk-toggleable__control sk-hidden--visually\" id=\"sk-estimator-id-9\" type=\"checkbox\" checked><label for=\"sk-estimator-id-9\" class=\"sk-toggleable__label sk-toggleable__label-arrow\">RandomForestClassifier</label><div class=\"sk-toggleable__content\"><pre>RandomForestClassifier(max_features=0.15532254178732274,\n",
       "                       max_samples=0.9777860112712836, n_estimators=70,\n",
       "                       random_state=42)</pre></div></div></div></div></div>"
      ],
      "text/plain": [
       "RandomForestClassifier(max_features=0.15532254178732274,\n",
       "                       max_samples=0.9777860112712836, n_estimators=70,\n",
       "                       random_state=42)"
      ]
     },
     "execution_count": 12,
     "metadata": {},
     "output_type": "execute_result"
    }
   ],
   "source": [
    "sota_stage2"
   ]
  },
  {
   "cell_type": "markdown",
   "id": "cc348d16-a219-4013-823d-56f2b2d2aabe",
   "metadata": {},
   "source": [
    "# Thresholds $\\tau_B$, $\\tau_M$ and $\\tau_U$\n",
    "These balanced thresholds are experimentally obtained, see full paper for more details."
   ]
  },
  {
   "cell_type": "code",
   "execution_count": 13,
   "id": "adc912e7-f7a6-4ceb-80c6-784dae1af0fa",
   "metadata": {},
   "outputs": [],
   "source": [
    "tau_b = -0.0002196942507948895\n",
    "tau_m = 0.98\n",
    "tau_u = 0.0040588613744241275"
   ]
  },
  {
   "cell_type": "markdown",
   "id": "1dfb462d-e628-4149-88f1-17c59402a61c",
   "metadata": {},
   "source": [
    "# Evaluation of Time Complexity"
   ]
  },
  {
   "cell_type": "code",
   "execution_count": 14,
   "id": "e16f1b68-f8cb-4843-98cd-1abd8487b276",
   "metadata": {},
   "outputs": [],
   "source": [
    "import warnings\n",
    "warnings.filterwarnings(\"ignore\", category=UserWarning)"
   ]
  },
  {
   "cell_type": "markdown",
   "id": "1bf077da-010d-40f4-afac-7bc0f9e68da0",
   "metadata": {},
   "source": [
    "`hids_predict`: Function to preform classification of all stages combined of the novel hierarchical multi-stage intrusion detection approach by Verkerken et al.\n",
    "\n",
    "`hids_sota_predict`: Function to evaluate former SotA approach existing of two stages by Bovenzi et al."
   ]
  },
  {
   "cell_type": "code",
   "execution_count": 45,
   "id": "929eba43-9a57-40ac-b31c-f12caba5f9bd",
   "metadata": {},
   "outputs": [],
   "source": [
    "def hids_predict(x, tau_b, tau_m, tau_u):\n",
    "    proba_1 = -stage1.decision_function(x) # invert sign to act as anomaly score \n",
    "    pred_1 = np.where(proba_1 < tau_b, \"Benign\", \"Attack\").astype(object)\n",
    "    proba_2 = stage2.predict_proba(x[pred_1 == \"Attack\"])\n",
    "    pred_2 = np.where(\n",
    "        np.max(proba_2, axis=1) > tau_m, \n",
    "        stage2.classes_[np.argmax(proba_2, axis=1)], \n",
    "        \"Unknown\")\n",
    "    proba_3 = proba_1[pred_1 == \"Attack\"][pred_2 == \"Unknown\"]\n",
    "    pred_3 = np.where(proba_3 < tau_u, \"Benign\", \"Unknown\")\n",
    "    pred_1[pred_1 == \"Attack\"] = pred_2\n",
    "    pred_1[pred_1 == \"Unknown\"] = pred_3\n",
    "    return pred_1"
   ]
  },
  {
   "cell_type": "code",
   "execution_count": 35,
   "id": "0ef1858e-44af-47e9-be90-4bbb9a6edfd7",
   "metadata": {},
   "outputs": [],
   "source": [
    "def hids_sota_predict(x, tau_b, tau_m):\n",
    "    x_s = stage1_scaler.transform(x)\n",
    "    x_pred = sota_stage1.predict(x_s)\n",
    "    proba_1 = np.sum((x_s - x_pred)**2, axis=1)\n",
    "    pred_1 = np.where(proba_1 < tau_b, \"Benign\", \"Attack\").astype(object)\n",
    "    x_s = stage2_scaler.transform(x)\n",
    "    proba_2 = sota_stage2.predict_proba(x_s[pred_1 == \"Attack\"])\n",
    "    pred_1[pred_1 == \"Attack\"] = np.where(\n",
    "        np.max(proba_2, axis=1) > tau_m, \n",
    "        stage2.classes_[np.argmax(proba_2, axis=1)], \n",
    "        \"Unknown\")\n",
    "    return pred_1"
   ]
  },
  {
   "cell_type": "markdown",
   "id": "f6df3b70-0f02-4362-a28c-da97f7619055",
   "metadata": {},
   "source": [
    "### Max F-score thesholds"
   ]
  },
  {
   "cell_type": "code",
   "execution_count": 25,
   "id": "d179a2b5-ef5b-485d-b750-46f37d79a357",
   "metadata": {},
   "outputs": [
    {
     "name": "stdout",
     "output_type": "stream",
     "text": [
      "7.80801 s ± 8.89491 ms per loop (mean ± std. dev. of 3 runs, 3 loops each)\n"
     ]
    }
   ],
   "source": [
    "%%timeit -r3 -n3 -p6\n",
    "tau_b = -0.0002196942507948895\n",
    "tau_m = 0.98\n",
    "tau_u = 0.004530129828299084\n",
    "y = hids_predict(x, tau_b, tau_m, tau_u)"
   ]
  },
  {
   "cell_type": "markdown",
   "id": "2226a4dd-3f57-4e8d-9af2-c62167f934fb",
   "metadata": {},
   "source": [
    "### Max bACC thresholds"
   ]
  },
  {
   "cell_type": "code",
   "execution_count": 26,
   "id": "076d5b79-2b05-4637-a540-b87c0f747cd5",
   "metadata": {},
   "outputs": [
    {
     "name": "stdout",
     "output_type": "stream",
     "text": [
      "8.04311 s ± 65.1999 ms per loop (mean ± std. dev. of 3 runs, 3 loops each)\n"
     ]
    }
   ],
   "source": [
    "%%timeit -r3 -n3 -p6\n",
    "tau_b = -0.0004064190600459828\n",
    "tau_m = 0.98\n",
    "tau_u = 0.0006590265510403005\n",
    "y = hids_predict(x, tau_b, tau_m, tau_u)"
   ]
  },
  {
   "cell_type": "markdown",
   "id": "eeee7ce2-1b3f-4e02-95d8-cd12bb801f1e",
   "metadata": {},
   "source": [
    "### Best \"balanced\" thesholds"
   ]
  },
  {
   "cell_type": "code",
   "execution_count": 27,
   "id": "69f72dfb-5256-403e-86bc-f43ec91a0c35",
   "metadata": {},
   "outputs": [
    {
     "name": "stdout",
     "output_type": "stream",
     "text": [
      "7.88245 s ± 53.5954 ms per loop (mean ± std. dev. of 3 runs, 3 loops each)\n"
     ]
    }
   ],
   "source": [
    "%%timeit -r3 -n3 -p6\n",
    "tau_b = -0.0002196942507948895\n",
    "tau_m = 0.98\n",
    "tau_u = 0.0040588613744241275\n",
    "y = hids_predict(x, tau_b, tau_m, tau_u)"
   ]
  },
  {
   "cell_type": "markdown",
   "id": "4b306b2d-1585-4d02-9928-7d949a046824",
   "metadata": {},
   "source": [
    "### Baseline RF"
   ]
  },
  {
   "cell_type": "code",
   "execution_count": 31,
   "id": "3a0e256a-1875-413f-908e-6f65b3a62d40",
   "metadata": {},
   "outputs": [],
   "source": [
    "threshold = 0.43"
   ]
  },
  {
   "cell_type": "code",
   "execution_count": 32,
   "id": "1d7943e2-f615-43a7-a62d-d11dd9f5f71a",
   "metadata": {
    "collapsed": true,
    "jupyter": {
     "outputs_hidden": true
    },
    "tags": []
   },
   "outputs": [
    {
     "name": "stdout",
     "output_type": "stream",
     "text": [
      "1.52463 s ± 12.5652 ms per loop (mean ± std. dev. of 3 runs, 3 loops each)\n"
     ]
    }
   ],
   "source": [
    "%%timeit -r3 -n3 -p6\n",
    "x_s = baseline_rf_scaler.transform(x)\n",
    "y_proba = baseline_rf.predict_proba(x_s)\n",
    "y_pred = np.where(np.max(y_proba, axis=1) > threshold, baseline_rf.classes_[np.argmax(y_proba, axis=1)], 'Unknown')"
   ]
  },
  {
   "cell_type": "markdown",
   "id": "31514c09-6c7d-487f-abcf-6053cf421258",
   "metadata": {},
   "source": [
    "### Bovenzi et al."
   ]
  },
  {
   "cell_type": "code",
   "execution_count": 25,
   "id": "31113199-3eec-4b6e-9259-fd790e874775",
   "metadata": {},
   "outputs": [],
   "source": [
    "# Thresholds experimentally optimized\n",
    "tau_b = 0.7580776764761945\n",
    "tau_m = 0.98"
   ]
  },
  {
   "cell_type": "code",
   "execution_count": 38,
   "id": "cfb24974-541b-42c0-bba8-092fb9cb2b29",
   "metadata": {},
   "outputs": [
    {
     "name": "stdout",
     "output_type": "stream",
     "text": [
      "1858/1858 [==============================] - 3s 2ms/step\n",
      "1858/1858 [==============================] - 3s 2ms/step\n",
      "1858/1858 [==============================] - 3s 2ms/step\n",
      "1858/1858 [==============================] - 3s 2ms/step\n",
      "1858/1858 [==============================] - 3s 2ms/step\n",
      "1858/1858 [==============================] - 3s 1ms/step\n",
      "1858/1858 [==============================] - 3s 2ms/step\n",
      "1858/1858 [==============================] - 3s 2ms/step\n",
      "1858/1858 [==============================] - 3s 2ms/step\n",
      "6.96949 s ± 399.393 ms per loop (mean ± std. dev. of 3 runs, 3 loops each)\n"
     ]
    }
   ],
   "source": [
    "%%timeit -r3 -n3 -p6\n",
    "y = hids_sota_predict(x, tau_b, tau_m)"
   ]
  },
  {
   "cell_type": "markdown",
   "id": "c39b77fa-4acd-43fc-891f-0ba251abe670",
   "metadata": {},
   "source": [
    "### Single sample\n",
    "Inference time for predicting a single flow"
   ]
  },
  {
   "cell_type": "code",
   "execution_count": 10,
   "id": "b7e66fca-778e-40dd-8b9f-5136fec3c4d0",
   "metadata": {},
   "outputs": [
    {
     "data": {
      "text/plain": [
       "array([[ 6.00000000e+00,  3.00000000e+00,  2.00000000e+00,\n",
       "         0.00000000e+00,  1.20000000e+01,  0.00000000e+00,\n",
       "         6.00000000e+00,  6.00000000e+00,  6.00000000e+00,\n",
       "         0.00000000e+00,  0.00000000e+00,  0.00000000e+00,\n",
       "         0.00000000e+00,  0.00000000e+00,  4.00000000e+06,\n",
       "         6.66666688e+05,  3.00000000e+00,  0.00000000e+00,\n",
       "         3.00000000e+00,  3.00000000e+00,  3.00000000e+00,\n",
       "         3.00000000e+00,  0.00000000e+00,  3.00000000e+00,\n",
       "         3.00000000e+00,  0.00000000e+00,  0.00000000e+00,\n",
       "         0.00000000e+00,  0.00000000e+00,  0.00000000e+00,\n",
       "         0.00000000e+00,  4.00000000e+01,  0.00000000e+00,\n",
       "         6.66666688e+05,  0.00000000e+00,  6.00000000e+00,\n",
       "         6.00000000e+00,  6.00000000e+00,  0.00000000e+00,\n",
       "         0.00000000e+00,  0.00000000e+00,  0.00000000e+00,\n",
       "         0.00000000e+00,  0.00000000e+00,  1.00000000e+00,\n",
       "         0.00000000e+00,  0.00000000e+00,  0.00000000e+00,\n",
       "         9.00000000e+00,  6.00000000e+00,  0.00000000e+00,\n",
       "         2.00000000e+00,  1.20000000e+01,  0.00000000e+00,\n",
       "         0.00000000e+00,  5.06000000e+02, -1.00000000e+00,\n",
       "         1.00000000e+00,  2.00000000e+01,  0.00000000e+00,\n",
       "         0.00000000e+00,  0.00000000e+00,  0.00000000e+00,\n",
       "         0.00000000e+00,  0.00000000e+00,  0.00000000e+00,\n",
       "         0.00000000e+00]])"
      ]
     },
     "execution_count": 10,
     "metadata": {},
     "output_type": "execute_result"
    }
   ],
   "source": [
    "sample = np.array(x.values[0]).reshape(1, -1)\n",
    "sample"
   ]
  },
  {
   "cell_type": "code",
   "execution_count": 11,
   "id": "02d09e5b-e866-4350-956d-8e9f0b4c91bf",
   "metadata": {},
   "outputs": [],
   "source": [
    "import warnings\n",
    "warnings.filterwarnings(\"ignore\", category=UserWarning)"
   ]
  },
  {
   "cell_type": "code",
   "execution_count": 12,
   "id": "40a35379-f4dd-405a-9f90-4753badb9b2c",
   "metadata": {},
   "outputs": [
    {
     "name": "stdout",
     "output_type": "stream",
     "text": [
      "60.3 ms ± 2.08 ms per loop (mean ± std. dev. of 10 runs, 10 loops each)\n"
     ]
    }
   ],
   "source": [
    "%%timeit -n 10 -r 10\n",
    "x_s = stage1_scaler.transform(sample)\n",
    "proba = -stage1_model.decision_function(x_s)\n",
    "pred = np.where(proba < tau_b, \"Benign\", \"Attack\").astype(object)"
   ]
  },
  {
   "cell_type": "code",
   "execution_count": 13,
   "id": "20ca3e53-8d42-4892-93bc-bf0c5a38230e",
   "metadata": {},
   "outputs": [
    {
     "name": "stdout",
     "output_type": "stream",
     "text": [
      "73.2 ms ± 836 µs per loop (mean ± std. dev. of 10 runs, 10 loops each)\n"
     ]
    }
   ],
   "source": [
    "%%timeit -n 10 -r 10\n",
    "x_s = stage2_scaler.transform(sample)\n",
    "proba = stage2_model.predict_proba(x_s)\n",
    "pred_2 = np.where(\n",
    "    np.max(proba, axis=1) > tau_m, \n",
    "    stage2_model.classes_[np.argmax(proba, axis=1)], \n",
    "    \"Unknown\")"
   ]
  },
  {
   "cell_type": "code",
   "execution_count": 17,
   "id": "76a3c03a-1e50-4738-91cd-f4c82649f036",
   "metadata": {},
   "outputs": [
    {
     "name": "stdout",
     "output_type": "stream",
     "text": [
      "59.9 ms ± 622 µs per loop (mean ± std. dev. of 10 runs, 10 loops each)\n"
     ]
    }
   ],
   "source": [
    "%%timeit -n 10 -r 10\n",
    "proba_1 = -stage1.decision_function(sample) # invert sign to act as anomaly score \n",
    "pred_1 = np.where(proba_1 < tau_b, \"Benign\", \"Attack\").astype(object)"
   ]
  },
  {
   "cell_type": "code",
   "execution_count": 18,
   "id": "ff40e417-50b7-49be-b696-cfe4387e2514",
   "metadata": {},
   "outputs": [
    {
     "name": "stdout",
     "output_type": "stream",
     "text": [
      "74.3 ms ± 724 µs per loop (mean ± std. dev. of 10 runs, 10 loops each)\n"
     ]
    }
   ],
   "source": [
    "%%timeit -n 10 -r 10\n",
    "proba_2 = stage2.predict_proba(sample)\n",
    "pred_2 = np.where(\n",
    "    np.max(proba_2, axis=1) > tau_m, \n",
    "    stage2.classes_[np.argmax(proba_2, axis=1)], \n",
    "    \"Unknown\")"
   ]
  },
  {
   "cell_type": "markdown",
   "id": "e66c3783-4f37-468a-8c2a-a7a900d04e67",
   "metadata": {},
   "source": [
    "# Evaluate Multi-Stage Model"
   ]
  },
  {
   "cell_type": "markdown",
   "id": "06f1a9b9-9717-40f1-aae3-ea34af2d1071",
   "metadata": {},
   "source": [
    "## Stage 1: Binary Detection"
   ]
  },
  {
   "cell_type": "code",
   "execution_count": 15,
   "id": "0b299271-4833-4568-9103-f89cc8884261",
   "metadata": {},
   "outputs": [
    {
     "data": {
      "text/plain": [
       "(array(['Attack', 'Benign'], dtype=object), array([20541, 38894]))"
      ]
     },
     "execution_count": 15,
     "metadata": {},
     "output_type": "execute_result"
    }
   ],
   "source": [
    "proba_1 = -stage1.decision_function(x) # invert sign to act as anomaly score \n",
    "pred_1 = np.where(proba_1 < tau_b, \"Benign\", \"Attack\").astype(object)\n",
    "np.unique(pred_1, return_counts=True)"
   ]
  },
  {
   "cell_type": "code",
   "execution_count": 20,
   "id": "a8166b32-d200-444f-a65a-f96b74ad541f",
   "metadata": {},
   "outputs": [
    {
     "name": "stdout",
     "output_type": "stream",
     "text": [
      "7.19 s ± 4.28 ms per loop (mean ± std. dev. of 3 runs, 3 loops each)\n"
     ]
    }
   ],
   "source": [
    "%%timeit -n3 -r3\n",
    "proba_1 = -stage1.decision_function(x) # invert sign to act as anomaly score \n",
    "pred_1 = np.where(proba_1 < tau_b, \"Benign\", \"Attack\").astype(object)\n",
    "np.unique(pred_1, return_counts=True)"
   ]
  },
  {
   "cell_type": "markdown",
   "id": "718672a3-683b-4d0c-bd3f-530012d8c52c",
   "metadata": {},
   "source": [
    "## Stage 2: Multi-Class Classification"
   ]
  },
  {
   "cell_type": "code",
   "execution_count": 9,
   "id": "681748fa-8c10-4a1c-9125-d968fce74294",
   "metadata": {},
   "outputs": [
    {
     "data": {
      "text/plain": [
       "(array(['(D)DOS', 'Botnet', 'Brute Force', 'Port Scan', 'Unknown',\n",
       "        'Web Attack'], dtype=object),\n",
       " array([  547,   746,   570,   594, 17543,   541]))"
      ]
     },
     "execution_count": 9,
     "metadata": {},
     "output_type": "execute_result"
    }
   ],
   "source": [
    "proba_2 = stage2.predict_proba(x[pred_1 == \"Attack\"])\n",
    "pred_2 = np.where(\n",
    "    np.max(proba_2, axis=1) > tau_m, \n",
    "    stage2.classes_[np.argmax(proba_2, axis=1)], \n",
    "    \"Unknown\")\n",
    "np.unique(pred_2, return_counts=True)"
   ]
  },
  {
   "cell_type": "code",
   "execution_count": 16,
   "id": "7f26cdae-c74e-45f3-977e-c5398c7ad9b1",
   "metadata": {},
   "outputs": [
    {
     "name": "stdout",
     "output_type": "stream",
     "text": [
      "603 ms ± 9.47 ms per loop (mean ± std. dev. of 3 runs, 3 loops each)\n"
     ]
    }
   ],
   "source": [
    "%%timeit -n3 -r3\n",
    "proba_2 = stage2.predict_proba(x[pred_1 == \"Attack\"])\n",
    "pred_2 = np.where(\n",
    "    np.max(proba_2, axis=1) > tau_m, \n",
    "    stage2.classes_[np.argmax(proba_2, axis=1)], \n",
    "    \"Unknown\")\n",
    "np.unique(pred_2, return_counts=True)"
   ]
  },
  {
   "cell_type": "markdown",
   "id": "4a9c513e-233c-441a-900d-2e46f9158631",
   "metadata": {},
   "source": [
    "## Extension Stage: Zero-Day Detection"
   ]
  },
  {
   "cell_type": "code",
   "execution_count": 10,
   "id": "21695e94-57f5-47e0-994e-5ba49ee381f9",
   "metadata": {},
   "outputs": [
    {
     "data": {
      "text/plain": [
       "(array(['Benign', 'Unknown'], dtype='<U7'), array([16955,   588]))"
      ]
     },
     "execution_count": 10,
     "metadata": {},
     "output_type": "execute_result"
    }
   ],
   "source": [
    "proba_3 = proba_1[pred_1 == \"Attack\"][pred_2 == \"Unknown\"]\n",
    "pred_3 = np.where(proba_3 < tau_u, \"Benign\", \"Unknown\")\n",
    "np.unique(pred_3, return_counts=True)"
   ]
  },
  {
   "cell_type": "markdown",
   "id": "838c4732-831c-4b28-8961-0f43ea3ce536",
   "metadata": {},
   "source": [
    "## Combine stages"
   ]
  },
  {
   "cell_type": "code",
   "execution_count": 11,
   "id": "ae5d32bc-d84e-40f2-b120-d265aa890e15",
   "metadata": {},
   "outputs": [
    {
     "data": {
      "text/plain": [
       "(array(['(D)DOS', 'Benign', 'Botnet', 'Brute Force', 'Port Scan',\n",
       "        'Unknown', 'Web Attack'], dtype=object),\n",
       " array([  547, 55849,   746,   570,   594,   588,   541]))"
      ]
     },
     "execution_count": 11,
     "metadata": {},
     "output_type": "execute_result"
    }
   ],
   "source": [
    "y_pred = pred_1.copy()\n",
    "y_pred[y_pred == \"Attack\"] = pred_2\n",
    "y_pred[y_pred == \"Unknown\"] = pred_3\n",
    "np.unique(y_pred, return_counts=True)"
   ]
  },
  {
   "cell_type": "markdown",
   "id": "55b813e5-e5bb-482a-a5cf-409a7eadb470",
   "metadata": {},
   "source": [
    "# Statistics and Visualizations of the Results"
   ]
  },
  {
   "cell_type": "code",
   "execution_count": 12,
   "id": "463162c5-7313-466b-af29-4947a20178d6",
   "metadata": {},
   "outputs": [],
   "source": [
    "def plot_confusion_matrix(y_true, y_pred, figsize=(7,7), cmap=\"Blues\", values=[-1, 1], labels=[\"Attack\", \"Benign\"], title=\"\", ax=None, metrics=False):\n",
    "    cm = confusion_matrix(y_true, y_pred, labels=values)\n",
    "    cm_sum = np.sum(cm, axis=1, keepdims=True)\n",
    "    cm_perc = cm / cm_sum.astype(float)\n",
    "    annot = np.empty_like(cm).astype(str)\n",
    "    nrows, ncols = cm.shape\n",
    "    for i in range(nrows):\n",
    "        for j in range(ncols):\n",
    "            c = cm[i, j]\n",
    "            p = cm_perc[i, j]\n",
    "            annot[i, j] = '%.1f%%\\n%d' % (p * 100, c)\n",
    "    cm_perc = pd.DataFrame(cm_perc, index=labels, columns=labels)\n",
    "    cm_perc.index.name = 'Actual'\n",
    "    cm_perc.columns.name = 'Predicted'\n",
    "    if ax == None:\n",
    "        fig, ax = plt.subplots(figsize=figsize)\n",
    "    sns.heatmap(cm_perc, cmap=cmap, annot=annot, fmt='', ax=ax, vmin=0, vmax=1)\n",
    "    if title != \"\":\n",
    "        ax.set_title(title)"
   ]
  },
  {
   "cell_type": "code",
   "execution_count": 13,
   "id": "7b71c61f-1969-4032-ab69-93a2522e1160",
   "metadata": {},
   "outputs": [
    {
     "data": {
      "image/png": "[encoded data removed]",
      "text/plain": [
       "<Figure size 504x504 with 2 Axes>"
      ]
     },
     "metadata": {
      "needs_background": "light"
     },
     "output_type": "display_data"
    }
   ],
   "source": [
    "classes = ['Benign', '(D)DOS', 'Botnet', 'Brute Force', 'Port Scan', 'Web Attack', 'Unknown']\n",
    "plot_confusion_matrix(y, y_pred, values=classes, labels=classes, metrics=True)"
   ]
  },
  {
   "cell_type": "code",
   "execution_count": 14,
   "id": "aeec800e-196d-4e9c-9019-f98227c2a154",
   "metadata": {},
   "outputs": [
    {
     "name": "stdout",
     "output_type": "stream",
     "text": [
      "              precision    recall  f1-score   support\n",
      "\n",
      "      (D)DOS     0.9927    0.9298    0.9602       584\n",
      "      Benign     0.9968    0.9859    0.9913     56468\n",
      "      Botnet     0.6984    0.8921    0.7835       584\n",
      " Brute Force     0.9825    0.9589    0.9705       584\n",
      "   Port Scan     0.9747    0.9914    0.9830       584\n",
      "     Unknown     0.0697    0.8723    0.1291        47\n",
      "  Web Attack     0.9815    0.9092    0.9440       584\n",
      "\n",
      "    accuracy                         0.9834     59435\n",
      "   macro avg     0.8138    0.9342    0.8231     59435\n",
      "weighted avg     0.9926    0.9834    0.9875     59435\n",
      "\n"
     ]
    }
   ],
   "source": [
    "print(classification_report(y, y_pred, digits=4))"
   ]
  },
  {
   "cell_type": "markdown",
   "id": "1321d7d4-e7d9-4169-b0ab-18ec138b70d5",
   "metadata": {},
   "source": [
    "## Robustness - Preform classification on additional \"infiltration\" samples from cic-ids-2018"
   ]
  },
  {
   "cell_type": "code",
   "execution_count": 53,
   "id": "0ad540ce-d7bd-447d-b246-d95b82d5a02a",
   "metadata": {},
   "outputs": [],
   "source": [
    "tau_b = -0.0002196942507948895\n",
    "tau_m = 0.98\n",
    "tau_u = 0.0040588613744241275 # balanced threshold -> 29,02% recall on infiltration 2018\n",
    "# tau_u = 0.0006590265510403005 # bACC threshold -> 78,38% recall on infiltration 2018\n",
    "y = hids_predict(x_18, tau_b, tau_m, tau_u)"
   ]
  },
  {
   "cell_type": "code",
   "execution_count": 54,
   "id": "3548f680-7365-4018-b7f7-65aac3d43226",
   "metadata": {},
   "outputs": [
    {
     "data": {
      "text/plain": [
       "(array(['(D)DOS', 'Benign', 'Unknown'], dtype=object),\n",
       " array([   11, 90734, 37099]))"
      ]
     },
     "execution_count": 54,
     "metadata": {},
     "output_type": "execute_result"
    }
   ],
   "source": [
    "np.unique(y, return_counts=True)"
   ]
  },
  {
   "cell_type": "code",
   "execution_count": 50,
   "id": "b9a6a543-2c63-4cf3-8e61-573ee1bf0de5",
   "metadata": {
    "tags": []
   },
   "outputs": [
    {
     "data": {
      "text/plain": [
       "(array(['(D)DOS', 'Benign', 'Unknown'], dtype=object),\n",
       " array([    11,  27634, 100199]))"
      ]
     },
     "execution_count": 50,
     "metadata": {},
     "output_type": "execute_result"
    }
   ],
   "source": [
    "np.unique(y, return_counts=True)"
   ]
  },
  {
   "cell_type": "code",
   "execution_count": 57,
   "id": "636e6d19-9a7d-415d-b903-c96a8f3e1f0f",
   "metadata": {},
   "outputs": [
    {
     "name": "stdout",
     "output_type": "stream",
     "text": [
      "3996/3996 [==============================] - 6s 2ms/step\n"
     ]
    }
   ],
   "source": [
    "tau_b = 0.7580776764761945\n",
    "tau_m = 0.98\n",
    "y = hids_sota_predict(x_18, tau_b, tau_m) # 86.99% recall on infiltration 2018"
   ]
  },
  {
   "cell_type": "code",
   "execution_count": 58,
   "id": "9310e2df-bc4c-4cab-b7a5-d087364d92c5",
   "metadata": {},
   "outputs": [
    {
     "data": {
      "text/plain": [
       "(array(['(D)DOS', 'Benign', 'Unknown', 'Web Attack'], dtype=object),\n",
       " array([     4,  16624, 111215,      1]))"
      ]
     },
     "execution_count": 58,
     "metadata": {},
     "output_type": "execute_result"
    }
   ],
   "source": [
    "np.unique(y, return_counts=True)"
   ]
  },
  {
   "cell_type": "code",
   "execution_count": 59,
   "id": "6cffab90-c953-465e-a69d-306a81521165",
   "metadata": {},
   "outputs": [],
   "source": [
    "x_s = baseline_rf_scaler.transform(x_18)\n",
    "y_proba = baseline_rf.predict_proba(x_s)\n",
    "y_pred = np.where(np.max(y_proba, axis=1) > 0.43, baseline_rf.classes_[np.argmax(y_proba, axis=1)], 'Unknown')\n",
    "# 0.06% recall on infiltration 2018"
   ]
  },
  {
   "cell_type": "code",
   "execution_count": 61,
   "id": "11998a20-4d27-46d8-a23c-6c236eabcd9e",
   "metadata": {},
   "outputs": [
    {
     "data": {
      "text/plain": [
       "(array(['(D)DOS', 'Benign', 'Botnet', 'Brute Force', 'Port Scan',\n",
       "        'Unknown', 'Web Attack'], dtype=object),\n",
       " array([  3445, 123511,    619,     22,     30,     76,    141]))"
      ]
     },
     "execution_count": 61,
     "metadata": {},
     "output_type": "execute_result"
    }
   ],
   "source": [
    "np.unique(y_pred, return_counts=True)"
   ]
  }
 ],
 "metadata": {
  "kernelspec": {
   "display_name": "Python 3 (ipykernel)",
   "language": "python",
   "name": "python3"
  },
  "language_info": {
   "codemirror_mode": {
    "name": "ipython",
    "version": 3
   },
   "file_extension": ".py",
   "mimetype": "text/x-python",
   "name": "python",
   "nbconvert_exporter": "python",
   "pygments_lexer": "ipython3",
   "version": "3.11.5"
  }
 },
 "nbformat": 4,
 "nbformat_minor": 5
}
